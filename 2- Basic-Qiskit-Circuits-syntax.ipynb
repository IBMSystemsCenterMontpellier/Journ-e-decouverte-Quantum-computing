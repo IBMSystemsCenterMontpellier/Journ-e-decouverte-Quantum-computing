{
 "cells": [
  {
   "cell_type": "markdown",
   "metadata": {},
   "source": [
    "Updated to qiskit version 1.0 (Mars 2024)"
   ]
  },
  {
   "cell_type": "markdown",
   "metadata": {},
   "source": [
    "## Basic Qiskit Syntax"
   ]
  },
  {
   "cell_type": "markdown",
   "metadata": {},
   "source": [
    "### Quantum circuits"
   ]
  },
  {
   "cell_type": "markdown",
   "metadata": {},
   "source": [
    "L'objet au cœur de Qiskit est le circuit quantique. Voici comment nous en créons un, que nous appellerons `qc`"
   ]
  },
  {
   "cell_type": "code",
   "execution_count": 1,
   "metadata": {},
   "outputs": [],
   "source": [
    "from qiskit import QuantumCircuit\n",
    "qc = QuantumCircuit()"
   ]
  },
  {
   "cell_type": "markdown",
   "metadata": {},
   "source": [
    "Ce circuit est actuellement complètement vide, sans qubits ni sorties."
   ]
  },
  {
   "cell_type": "markdown",
   "metadata": {},
   "source": [
    "### Quantum registers"
   ]
  },
  {
   "cell_type": "markdown",
   "metadata": {},
   "source": [
    "Pour rendre le circuit moins trivial, nous devons définir un registre de qubits. Cela se fait à l'aide d'un objet QuantumRegister. Par exemple, définissons un registre composé de deux qubits et appelons-le `qr`."
   ]
  },
  {
   "cell_type": "code",
   "execution_count": 2,
   "metadata": {},
   "outputs": [],
   "source": [
    "from qiskit import QuantumRegister\n",
    "qr = QuantumRegister(2,'a')"
   ]
  },
  {
   "cell_type": "markdown",
   "metadata": {},
   "source": [
    "Lui donner le label `'a'` est optionel.\n",
    "Nous pouvons maintenant l'ajouter au circuit en utilisant la méthode `add_register`, et voir qu'il a été ajouté en vérifiant la variable `qregs` de l'objet circuit. Ce guide utilise des [Jupyter Notebooks](https://jupyter.org/). Dans Jupyter Notebooks, le résultat de la dernière ligne d'une cellule est affiché sous la cellule :"
   ]
  },
  {
   "cell_type": "code",
   "execution_count": 3,
   "metadata": {},
   "outputs": [
    {
     "data": {
      "text/plain": [
       "[QuantumRegister(2, 'a')]"
      ]
     },
     "execution_count": 3,
     "metadata": {},
     "output_type": "execute_result"
    }
   ],
   "source": [
    "qc.add_register( qr )\n",
    "\n",
    "qc.qregs"
   ]
  },
  {
   "cell_type": "markdown",
   "metadata": {},
   "source": [
    "Maintenant que notre circuit a quelques qubits, nous pouvons utiliser un autre attribut du circuit pour voir à quoi il ressemble : `draw()` ."
   ]
  },
  {
   "cell_type": "code",
   "execution_count": 4,
   "metadata": {},
   "outputs": [
    {
     "data": {
      "text/html": [
       "<pre style=\"word-wrap: normal;white-space: pre;background: #fff0;line-height: 1.1;font-family: &quot;Courier New&quot;,Courier,monospace\">     \n",
       "a_0: \n",
       "     \n",
       "a_1: \n",
       "     </pre>"
      ],
      "text/plain": [
       "     \n",
       "a_0: \n",
       "     \n",
       "a_1: \n",
       "     "
      ]
     },
     "execution_count": 4,
     "metadata": {},
     "output_type": "execute_result"
    }
   ],
   "source": [
    "qc.draw()"
   ]
  },
  {
   "cell_type": "markdown",
   "metadata": {},
   "source": [
    "Nos qubits sont prêts à commencer leur voyage, mais sont actuellement simplement là, dans l'état $\\left|0\\right\\rangle$."
   ]
  },
  {
   "cell_type": "markdown",
   "metadata": {},
   "source": [
    "#### Applying Gates"
   ]
  },
  {
   "cell_type": "markdown",
   "metadata": {},
   "source": [
    "Pour que quelque chose se produise, nous devons ajouter des portes. Par exemple, essayons `h()`."
   ]
  },
  {
   "cell_type": "code",
   "execution_count": 6,
   "metadata": {
    "scrolled": true,
    "tags": [
     "raises-exception"
    ]
   },
   "outputs": [
    {
     "ename": "TypeError",
     "evalue": "QuantumCircuit.h() missing 1 required positional argument: 'qubit'",
     "output_type": "error",
     "traceback": [
      "\u001b[1;31m---------------------------------------------------------------------------\u001b[0m",
      "\u001b[1;31mTypeError\u001b[0m                                 Traceback (most recent call last)",
      "Cell \u001b[1;32mIn[6], line 1\u001b[0m\n\u001b[1;32m----> 1\u001b[0m qc\u001b[38;5;241m.\u001b[39mh()\n",
      "\u001b[1;31mTypeError\u001b[0m: QuantumCircuit.h() missing 1 required positional argument: 'qubit'"
     ]
    }
   ],
   "source": [
    "qc.h()"
   ]
  },
  {
   "cell_type": "markdown",
   "metadata": {},
   "source": [
    "Ici, nous avons eu une erreur, car nous n'avons pas indiqué à l'opération sur quel qubit elle devait agir. Les deux qubits de notre registre `qr` peuvent être adressés individuellement comme `qr[0]` and `qr[1]`."
   ]
  },
  {
   "cell_type": "code",
   "execution_count": 9,
   "metadata": {},
   "outputs": [
    {
     "data": {
      "text/plain": [
       "<qiskit.circuit.instructionset.InstructionSet at 0x211c24f8f70>"
      ]
     },
     "execution_count": 9,
     "metadata": {},
     "output_type": "execute_result"
    }
   ],
   "source": [
    "qc.h(qr[0])"
   ]
  },
  {
   "cell_type": "markdown",
   "metadata": {},
   "source": [
    "Ignorez la sortie ci-dessus. Lorsque la dernière ligne d'une cellule n'a pas de `=`, les notebooks Jupyter aiment imprimer ce qui s'y trouve. Dans ce cas, cela nous indique qu'il existe une Hadamard telle que définie par Qiskit. Pour supprimer cette sortie, nous pourrions utiliser un `;`.\n",
    "\n",
    "Nous pouvons également ajouter un NON contrôlé en utilisant `cx`. Cela nécessite deux arguments : le qubit de contrôle, puis le qubit cible."
   ]
  },
  {
   "cell_type": "code",
   "execution_count": 10,
   "metadata": {},
   "outputs": [
    {
     "data": {
      "text/plain": [
       "<qiskit.circuit.instructionset.InstructionSet at 0x211c24f9570>"
      ]
     },
     "execution_count": 10,
     "metadata": {},
     "output_type": "execute_result"
    }
   ],
   "source": [
    "qc.cx(qr[0], qr[1])"
   ]
  },
  {
   "cell_type": "markdown",
   "metadata": {},
   "source": [
    "Maintenant voila notre circuit"
   ]
  },
  {
   "cell_type": "code",
   "execution_count": 11,
   "metadata": {},
   "outputs": [
    {
     "data": {
      "text/html": [
       "<pre style=\"word-wrap: normal;white-space: pre;background: #fff0;line-height: 1.1;font-family: &quot;Courier New&quot;,Courier,monospace\">     ┌───┐┌───┐┌───┐     \n",
       "a_0: ┤ H ├┤ H ├┤ H ├──■──\n",
       "     └───┘└───┘└───┘┌─┴─┐\n",
       "a_1: ───────────────┤ X ├\n",
       "                    └───┘</pre>"
      ],
      "text/plain": [
       "     ┌───┐┌───┐┌───┐     \n",
       "a_0: ┤ H ├┤ H ├┤ H ├──■──\n",
       "     └───┘└───┘└───┘┌─┴─┐\n",
       "a_1: ───────────────┤ X ├\n",
       "                    └───┘"
      ]
     },
     "execution_count": 11,
     "metadata": {},
     "output_type": "execute_result"
    }
   ],
   "source": [
    "qc.draw()"
   ]
  },
  {
   "cell_type": "markdown",
   "metadata": {},
   "source": [
    "### Aer simulator"
   ]
  },
  {
   "cell_type": "markdown",
   "metadata": {},
   "source": [
    "Nous sommes maintenant au stade où nous pouvons réellement examiner une sortie du circuit. Plus précisément, nous utiliserons le « simulateur aer » pour voir ce qui arrive au vecteur d'état des deux qubits.\n",
    "\n",
    "Pour préparer ce simulateur, nous utilisons la ligne suivante.\n"
   ]
  },
  {
   "cell_type": "code",
   "execution_count": 13,
   "metadata": {},
   "outputs": [],
   "source": [
    "from qiskit_aer import Aer\n",
    "sv_sim = Aer.get_backend('aer_simulator')"
   ]
  },
  {
   "cell_type": "markdown",
   "metadata": {},
   "source": [
    "Dans Qiskit, nous utilisons le backend pour faire référence aux éléments sur lesquels les programmes quantiques s'exécutent réellement (simulateurs ou véritables appareils quantiques). Pour configurer une tâche pour un backend, nous devons configurer l'objet backend correspondant.\n",
    "\n",
    "Le simulateur que nous souhaitons est défini dans la partie de qiskit connue sous le nom d'`Aer`. En donnant le nom du simulateur souhaité à la méthode `get_backend()` d'Aer, nous obtenons l'objet backend dont nous avons besoin. Dans ce cas, le nom est `'aer_simulator'`.\n",
    "\n",
    "Une liste de tous les simulateurs possibles dans Aer peut être trouvée en utilisant"
   ]
  },
  {
   "cell_type": "code",
   "execution_count": 14,
   "metadata": {},
   "outputs": [
    {
     "name": "stdout",
     "output_type": "stream",
     "text": [
      "AerSimulator('aer_simulator')\n",
      "AerSimulator('aer_simulator')\n",
      "AerSimulator('aer_simulator')\n",
      "AerSimulator('aer_simulator')\n",
      "AerSimulator('aer_simulator')\n",
      "AerSimulator('aer_simulator')\n",
      "AerSimulator('aer_simulator')\n",
      "AerSimulator('aer_simulator')\n",
      "QasmSimulator('qasm_simulator')\n",
      "StatevectorSimulator('statevector_simulator')\n",
      "UnitarySimulator('unitary_simulator')\n"
     ]
    }
   ],
   "source": [
    "for backend in Aer.backends():\n",
    "    print(backend)"
   ]
  },
  {
   "cell_type": "markdown",
   "metadata": {},
   "source": [
    "Tous ces simulateurs sont « locaux », c'est-à-dire qu'ils fonctionnent sur la machine sur laquelle Qiskit est installé. Leur utilisation sur votre propre ordinateur peut être effectuée sans signer le contrat d'utilisation d'IBMQ.\n",
    "\n",
    "Nous utilisons ensuite la méthode `.run()` du backend que nous souhaitons utiliser (dans ce cas un simulateur) pour exécuter l'expérience. C’est là que se produisent les calculs quantiques !"
   ]
  },
  {
   "cell_type": "code",
   "execution_count": 15,
   "metadata": {},
   "outputs": [],
   "source": [
    "qc.save_statevector()\n",
    "job = sv_sim.run(qc)"
   ]
  },
  {
   "cell_type": "markdown",
   "metadata": {},
   "source": [
    "This creates an object that handles the job, which here has been called `job`. All we need from this is to extract the result. Specifically, we want the state vector."
   ]
  },
  {
   "cell_type": "code",
   "execution_count": 16,
   "metadata": {},
   "outputs": [
    {
     "name": "stdout",
     "output_type": "stream",
     "text": [
      "Statevector([0.70710678+0.00000000e+00j, 0.        +0.00000000e+00j,\n",
      "             0.        +0.00000000e+00j, 0.70710678-8.65956056e-17j],\n",
      "            dims=(2, 2))\n"
     ]
    }
   ],
   "source": [
    "ket = job.result().get_statevector()\n",
    "print(ket)"
   ]
  },
  {
   "cell_type": "markdown",
   "metadata": {},
   "source": [
    "C'est le Vecteur pour un etat de Bell $\\left( \\left|00\\right\\rangle + \\left|11\\right\\rangle \\right)/\\sqrt{2}$, c'est ce à quoi nous nous attendrions étant donné le circuit."
   ]
  },
  {
   "cell_type": "markdown",
   "metadata": {},
   "source": [
    "Bien que nous ayons un vecteur d'état bien défini, nous pouvons montrer une autre fonctionnalité de Qiskit : il est possible d'initialiser un circuit avec un état pur arbitraire."
   ]
  },
  {
   "cell_type": "code",
   "execution_count": 17,
   "metadata": {},
   "outputs": [
    {
     "data": {
      "text/plain": [
       "<qiskit.circuit.instructionset.InstructionSet at 0x211c35e1870>"
      ]
     },
     "execution_count": 17,
     "metadata": {},
     "output_type": "execute_result"
    }
   ],
   "source": [
    "new_qc = QuantumCircuit(qr)\n",
    "\n",
    "new_qc.initialize(ket, qr)"
   ]
  },
  {
   "cell_type": "markdown",
   "metadata": {},
   "source": [
    "### Classical registers and the Aer simulator"
   ]
  },
  {
   "cell_type": "markdown",
   "metadata": {},
   "source": [
    "Dans la simulation ci-dessus, nous avons obtenu un vecteur d'état. Ce n’est pas ce que nous obtiendrons d’un véritable ordinateur quantique. Pour cela, nous avons besoin de mesures. Et pour gérer les mesures, nous devons définir où iront les résultats. Cela se fait avec un `ClassicalRegister`. Définissons un registre classique à deux bits, afin de mesurer nos deux qubits."
   ]
  },
  {
   "cell_type": "code",
   "execution_count": 18,
   "metadata": {},
   "outputs": [],
   "source": [
    "from qiskit import ClassicalRegister\n",
    "cr = ClassicalRegister(2,'creg')\n",
    "\n",
    "qc.add_register(cr)"
   ]
  },
  {
   "cell_type": "markdown",
   "metadata": {},
   "source": [
    "Nous pouvons maintenant utiliser la méthode de `mesure` du circuit quantique. Cela nécessite deux arguments : le qubit mesuré et le bit sur lequel le résultat est écrit.\n",
    "\n",
    "Mesurons les deux qubits et écrivons leurs résultats dans différents bits."
   ]
  },
  {
   "cell_type": "code",
   "execution_count": 19,
   "metadata": {},
   "outputs": [
    {
     "data": {
      "text/html": [
       "<pre style=\"word-wrap: normal;white-space: pre;background: #fff0;line-height: 1.1;font-family: &quot;Courier New&quot;,Courier,monospace\">        ┌───┐┌───┐┌───┐      statevector ┌─┐   \n",
       "   a_0: ┤ H ├┤ H ├┤ H ├──■────────░──────┤M├───\n",
       "        └───┘└───┘└───┘┌─┴─┐      ░      └╥┘┌─┐\n",
       "   a_1: ───────────────┤ X ├──────░───────╫─┤M├\n",
       "                       └───┘      ░       ║ └╥┘\n",
       "creg: 2/══════════════════════════════════╩══╩═\n",
       "                                          0  1 </pre>"
      ],
      "text/plain": [
       "        ┌───┐┌───┐┌───┐      statevector ┌─┐   \n",
       "   a_0: ┤ H ├┤ H ├┤ H ├──■────────░──────┤M├───\n",
       "        └───┘└───┘└───┘┌─┴─┐      ░      └╥┘┌─┐\n",
       "   a_1: ───────────────┤ X ├──────░───────╫─┤M├\n",
       "                       └───┘      ░       ║ └╥┘\n",
       "creg: 2/══════════════════════════════════╩══╩═\n",
       "                                          0  1 "
      ]
     },
     "execution_count": 19,
     "metadata": {},
     "output_type": "execute_result"
    }
   ],
   "source": [
    "qc.measure(qr[0],cr[0])\n",
    "qc.measure(qr[1],cr[1])\n",
    "\n",
    "qc.draw()"
   ]
  },
  {
   "cell_type": "markdown",
   "metadata": {},
   "source": [
    "Nous pouvons maintenant exécuter cela sur un simulateur local dont l’effet est d’émuler un véritable appareil quantique. Pour cela, nous devons ajouter une autre entrée `shots`, qui détermine combien de fois nous exécutons le circuit pour prendre des statistiques. Si vous ne fournissez aucune valeur `shots`, vous obtenez la valeur par défaut de 1024.\n"
   ]
  },
  {
   "cell_type": "code",
   "execution_count": 20,
   "metadata": {},
   "outputs": [],
   "source": [
    "aer_sim = Aer.get_backend('aer_simulator')\n",
    "job = aer_sim.run(qc, shots=8192)"
   ]
  },
  {
   "cell_type": "markdown",
   "metadata": {},
   "source": [
    "Le résultat est essentiellement un histogramme sous la forme d’un dictionnaire Python. Nous pouvons utiliser `print` pour afficher cela pour nous."
   ]
  },
  {
   "cell_type": "code",
   "execution_count": 21,
   "metadata": {},
   "outputs": [
    {
     "name": "stdout",
     "output_type": "stream",
     "text": [
      "{'00': 4195, '11': 3997}\n"
     ]
    }
   ],
   "source": [
    "hist = job.result().get_counts()\n",
    "print(hist)"
   ]
  },
  {
   "cell_type": "markdown",
   "metadata": {},
   "source": [
    "Nous pouvons même demander à Qiskit de le tracer sous forme d'histogramme."
   ]
  },
  {
   "cell_type": "code",
   "execution_count": 22,
   "metadata": {},
   "outputs": [
    {
     "data": {
      "image/png": "[encoded data removed]",
      "text/plain": [
       "<Figure size 700x500 with 1 Axes>"
      ]
     },
     "execution_count": 22,
     "metadata": {},
     "output_type": "execute_result"
    }
   ],
   "source": [
    "from qiskit.visualization import plot_histogram\n",
    "\n",
    "plot_histogram(hist)"
   ]
  },
  {
   "cell_type": "markdown",
   "metadata": {},
   "source": [
    "Pour les backends compatibles, nous pouvons également demander et obtenir la liste ordonnée des résultats."
   ]
  },
  {
   "cell_type": "code",
   "execution_count": 23,
   "metadata": {},
   "outputs": [
    {
     "name": "stdout",
     "output_type": "stream",
     "text": [
      "['11', '11', '00', '11', '00', '00', '00', '11', '00', '00']\n"
     ]
    }
   ],
   "source": [
    "job = aer_sim.run(qc, shots=10, memory=True)\n",
    "samples = job.result().get_memory()\n",
    "print(samples)"
   ]
  },
  {
   "cell_type": "markdown",
   "metadata": {},
   "source": [
    "Notez que les bits sont étiquetés de droite à gauche. Donc `cr[0]` est celui le plus à droite, et ainsi de suite. À titre d'exemple, voici un circuit de 8 qubits avec un Pauli $X$ sur uniquement le qubit numéroté `7`, dont la sortie est stockée dans le bit numéroté `7`."
   ]
  },
  {
   "cell_type": "code",
   "execution_count": 24,
   "metadata": {},
   "outputs": [
    {
     "data": {
      "text/plain": [
       "{'10000000': 8192}"
      ]
     },
     "execution_count": 24,
     "metadata": {},
     "output_type": "execute_result"
    }
   ],
   "source": [
    "qubit = QuantumRegister(8)\n",
    "bit = ClassicalRegister(8)\n",
    "qc_2 = QuantumCircuit(qubit,bit)\n",
    "\n",
    "qc_2.x(qubit[7])\n",
    "qc_2.measure(qubit,bit) # this is a way to do all the qc.measure(qr8[j],cr8[j]) at once\n",
    "# or you can use qc_2.measure_all()\n",
    "\n",
    "aer_sim.run(qc_2, shots=8192).result().get_counts()"
   ]
  },
  {
   "cell_type": "markdown",
   "metadata": {},
   "source": [
    "Le « 1 » apparaît à gauche.\n",
    "\n",
    "Cette numérotation reflète le rôle des bits lorsqu'ils représentent un nombre entier.\n",
    "\n",
    "\n",
    "$$ b_{n-1} ~ b_{n-2} ~ \\ldots ~ b_1 ~ b_0 = \\sum_j ~ b_j ~ 2^j $$\n",
    "\n",
    "Ainsi, la chaîne que nous obtenons dans notre résultat est le binaire pour $2^7$ car elle a un `1` pour le bit numéroté `7`\n"
   ]
  },
  {
   "cell_type": "markdown",
   "metadata": {},
   "source": [
    "### Notation simplifiée"
   ]
  },
  {
   "cell_type": "markdown",
   "metadata": {},
   "source": [
    "Plusieurs registres quantiques et classiques peuvent être ajoutés à un circuit. Cependant, si nous n’en avons besoin que d’un de chaque, nous pouvons utiliser une notation simplifiée.\n",
    "\n",
    "Par exemple, considérons ce qui suit."
   ]
  },
  {
   "cell_type": "code",
   "execution_count": 25,
   "metadata": {},
   "outputs": [],
   "source": [
    "qc = QuantumCircuit(3)"
   ]
  },
  {
   "cell_type": "markdown",
   "metadata": {},
   "source": [
    "L'unique argument de `QuantumCircuit` est interprété comme le nombre de qubits souhaités. Ce circuit possède donc un seul registre quantique composé de trois qubits, et aucun registre classique.\n",
    "\n",
    "Lors de l'ajout de portes, on peut alors faire référence aux trois qubits simplement par leur index : 0, 1 ou 2. Par exemple, voici un Hadamard sur le qubit 1."
   ]
  },
  {
   "cell_type": "code",
   "execution_count": 26,
   "metadata": {},
   "outputs": [
    {
     "data": {
      "text/html": [
       "<pre style=\"word-wrap: normal;white-space: pre;background: #fff0;line-height: 1.1;font-family: &quot;Courier New&quot;,Courier,monospace\">          \n",
       "q_0: ─────\n",
       "     ┌───┐\n",
       "q_1: ┤ H ├\n",
       "     └───┘\n",
       "q_2: ─────\n",
       "          </pre>"
      ],
      "text/plain": [
       "          \n",
       "q_0: ─────\n",
       "     ┌───┐\n",
       "q_1: ┤ H ├\n",
       "     └───┘\n",
       "q_2: ─────\n",
       "          "
      ]
     },
     "execution_count": 26,
     "metadata": {},
     "output_type": "execute_result"
    }
   ],
   "source": [
    "qc.h(1)\n",
    "\n",
    "qc.draw()"
   ]
  },
  {
   "cell_type": "markdown",
   "metadata": {},
   "source": [
    "Pour définir un circuit avec des registres à la fois quantiques et classiques, nous pouvons fournir deux arguments à `QuantumCircuit`. Le premier sera interprété comme le nombre de qubits, et le second sera le nombre de bits. Par exemple, voici un circuit à deux qubits pour lequel nous prendrons un seul bit de sortie."
   ]
  },
  {
   "cell_type": "code",
   "execution_count": 27,
   "metadata": {},
   "outputs": [],
   "source": [
    "qc = QuantumCircuit(2,1)"
   ]
  },
  {
   "cell_type": "markdown",
   "metadata": {},
   "source": [
    "Pour voir cela en action, voici un circuit simple. A noter que, lors d'une mesure, on se réfère également aux bits du registre classique par index."
   ]
  },
  {
   "cell_type": "code",
   "execution_count": 28,
   "metadata": {},
   "outputs": [
    {
     "data": {
      "text/html": [
       "<pre style=\"word-wrap: normal;white-space: pre;background: #fff0;line-height: 1.1;font-family: &quot;Courier New&quot;,Courier,monospace\">     ┌───┐        \n",
       "q_0: ┤ H ├──■─────\n",
       "     └───┘┌─┴─┐┌─┐\n",
       "q_1: ─────┤ X ├┤M├\n",
       "          └───┘└╥┘\n",
       "c: 1/═══════════╩═\n",
       "                0 </pre>"
      ],
      "text/plain": [
       "     ┌───┐        \n",
       "q_0: ┤ H ├──■─────\n",
       "     └───┘┌─┴─┐┌─┐\n",
       "q_1: ─────┤ X ├┤M├\n",
       "          └───┘└╥┘\n",
       "c: 1/═══════════╩═\n",
       "                0 "
      ]
     },
     "execution_count": 28,
     "metadata": {},
     "output_type": "execute_result"
    }
   ],
   "source": [
    "qc.h(0)\n",
    "qc.cx(0,1)\n",
    "qc.measure(1,0)\n",
    "\n",
    "qc.draw()"
   ]
  },
  {
   "cell_type": "markdown",
   "metadata": {},
   "source": [
    "### Creation de \"custom gates\""
   ]
  },
  {
   "cell_type": "markdown",
   "metadata": {},
   "source": [
    "Comme nous l'avons vu, il est possible de combiner différents circuits pour en faire des plus grands. Nous pouvons également en utiliser une version plus sophistiquée pour réaliser des portails personnalisés. Par exemple, voici un circuit qui implémente un `cx` entre les qubits 0 et 2, en utilisant le qubit 1 pour arbitrer le processus."
   ]
  },
  {
   "cell_type": "code",
   "execution_count": 29,
   "metadata": {},
   "outputs": [
    {
     "data": {
      "text/html": [
       "<pre style=\"word-wrap: normal;white-space: pre;background: #fff0;line-height: 1.1;font-family: &quot;Courier New&quot;,Courier,monospace\">                         \n",
       "q_0: ──■─────────■───────\n",
       "     ┌─┴─┐     ┌─┴─┐     \n",
       "q_1: ┤ X ├──■──┤ X ├──■──\n",
       "     └───┘┌─┴─┐└───┘┌─┴─┐\n",
       "q_2: ─────┤ X ├─────┤ X ├\n",
       "          └───┘     └───┘</pre>"
      ],
      "text/plain": [
       "                         \n",
       "q_0: ──■─────────■───────\n",
       "     ┌─┴─┐     ┌─┴─┐     \n",
       "q_1: ┤ X ├──■──┤ X ├──■──\n",
       "     └───┘┌─┴─┐└───┘┌─┴─┐\n",
       "q_2: ─────┤ X ├─────┤ X ├\n",
       "          └───┘     └───┘"
      ]
     },
     "execution_count": 29,
     "metadata": {},
     "output_type": "execute_result"
    }
   ],
   "source": [
    "sub_circuit = QuantumCircuit(3, name='toggle_cx')\n",
    "sub_circuit.cx(0,1)\n",
    "sub_circuit.cx(1,2)\n",
    "sub_circuit.cx(0,1)\n",
    "sub_circuit.cx(1,2)\n",
    "\n",
    "sub_circuit.draw()"
   ]
  },
  {
   "cell_type": "markdown",
   "metadata": {},
   "source": [
    "Nous pouvons maintenant transformer cela en porte"
   ]
  },
  {
   "cell_type": "code",
   "execution_count": 30,
   "metadata": {},
   "outputs": [],
   "source": [
    "toggle_cx = sub_circuit.to_instruction()"
   ]
  },
  {
   "cell_type": "markdown",
   "metadata": {},
   "source": [
    "puis insérez-le dans d'autres circuits en utilisant n'importe quel ensemble de qubits que nous choisissons\n"
   ]
  },
  {
   "cell_type": "code",
   "execution_count": 31,
   "metadata": {},
   "outputs": [
    {
     "data": {
      "text/html": [
       "<pre style=\"word-wrap: normal;white-space: pre;background: #fff0;line-height: 1.1;font-family: &quot;Courier New&quot;,Courier,monospace\">                    \n",
       "q2_0: ──────────────\n",
       "      ┌────────────┐\n",
       "q2_1: ┤0           ├\n",
       "      │            │\n",
       "q2_2: ┤1 toggle_cx ├\n",
       "      │            │\n",
       "q2_3: ┤2           ├\n",
       "      └────────────┘</pre>"
      ],
      "text/plain": [
       "                    \n",
       "q2_0: ──────────────\n",
       "      ┌────────────┐\n",
       "q2_1: ┤0           ├\n",
       "      │            │\n",
       "q2_2: ┤1 toggle_cx ├\n",
       "      │            │\n",
       "q2_3: ┤2           ├\n",
       "      └────────────┘"
      ]
     },
     "execution_count": 31,
     "metadata": {},
     "output_type": "execute_result"
    }
   ],
   "source": [
    "qr = QuantumRegister(4)\n",
    "new_qc = QuantumCircuit(qr)\n",
    "\n",
    "new_qc.append(toggle_cx, [qr[1],qr[2],qr[3]])\n",
    "\n",
    "new_qc.draw()"
   ]
  },
  {
   "cell_type": "markdown",
   "metadata": {},
   "source": [
    "### Acces a un backend hardware "
   ]
  },
  {
   "cell_type": "markdown",
   "metadata": {},
   "source": [
    "Backend objects can also be set up using the `IBMQ` package. The use of these requires us to [sign with an IBMQ account](https://qiskit.org/documentation/install.html#access-ibm-q-systems). Assuming the credentials are already loaded onto your computer, you sign in with\n",
    "\n",
    "Les objets backend peuvent également être configurés à l'aide du package « IBMQ ». L'utilisation de ceux-ci nous oblige à [signer avec un compte IBMQ](https://qiskit.org/documentation/install.html#access-ibm-q-systems). En supposant que les informations d'identification sont déjà chargées sur votre ordinateur, vous vous connectez avec"
   ]
  },
  {
   "cell_type": "code",
   "execution_count": 33,
   "metadata": {},
   "outputs": [],
   "source": [
    "from qiskit_ibm_provider import IBMProvider\n",
    "# provider = IBMProvider(token='Your token')"
   ]
  },
  {
   "cell_type": "markdown",
   "metadata": {},
   "source": [
    "Voyons maintenant de quels backends supplémentaires nous disposons."
   ]
  },
  {
   "cell_type": "code",
   "execution_count": 34,
   "metadata": {
    "tags": [
     "uses-hardware"
    ]
   },
   "outputs": [
    {
     "name": "stdout",
     "output_type": "stream",
     "text": [
      "<IBMBackend('ibmq_qasm_simulator')>\n",
      "<IBMBackend('simulator_extended_stabilizer')>\n",
      "<IBMBackend('simulator_mps')>\n",
      "<IBMBackend('simulator_statevector')>\n",
      "<IBMBackend('simulator_stabilizer')>\n",
      "<IBMBackend('ibm_brisbane')>\n",
      "<IBMBackend('ibm_kyoto')>\n",
      "<IBMBackend('ibm_osaka')>\n"
     ]
    }
   ],
   "source": [
    "provider = IBMProvider(instance='ibm-q/open/main')\n",
    "for backend in provider.backends():\n",
    "    print(backend)"
   ]
  },
  {
   "cell_type": "markdown",
   "metadata": {},
   "source": [
    "Nous pouvons voir ce qu'ils font avec la méthode `status()`"
   ]
  },
  {
   "cell_type": "code",
   "execution_count": 35,
   "metadata": {
    "tags": [
     "uses-hardware"
    ]
   },
   "outputs": [
    {
     "name": "stdout",
     "output_type": "stream",
     "text": [
      "{'backend_name': 'ibmq_qasm_simulator', 'backend_version': '', 'operational': True, 'pending_jobs': 0, 'status_msg': 'active'}\n",
      "{'backend_name': 'simulator_extended_stabilizer', 'backend_version': '', 'operational': True, 'pending_jobs': 0, 'status_msg': 'active'}\n",
      "{'backend_name': 'simulator_mps', 'backend_version': '', 'operational': True, 'pending_jobs': 0, 'status_msg': 'active'}\n",
      "{'backend_name': 'simulator_statevector', 'backend_version': '', 'operational': True, 'pending_jobs': 0, 'status_msg': 'active'}\n",
      "{'backend_name': 'simulator_stabilizer', 'backend_version': '', 'operational': True, 'pending_jobs': 0, 'status_msg': 'active'}\n",
      "{'backend_name': 'ibm_brisbane', 'backend_version': '', 'operational': True, 'pending_jobs': 1187, 'status_msg': 'active'}\n",
      "{'backend_name': 'ibm_kyoto', 'backend_version': '', 'operational': True, 'pending_jobs': 1237, 'status_msg': 'active'}\n",
      "{'backend_name': 'ibm_osaka', 'backend_version': '', 'operational': True, 'pending_jobs': 615, 'status_msg': 'active'}\n"
     ]
    }
   ],
   "source": [
    "for backend in provider.backends():\n",
    "    print(backend.status().to_dict())"
   ]
  },
  {
   "cell_type": "markdown",
   "metadata": {},
   "source": [
    "Obtenons l'objet backend pour `Brisbane`"
   ]
  },
  {
   "cell_type": "code",
   "execution_count": 36,
   "metadata": {
    "tags": [
     "uses-hardware"
    ]
   },
   "outputs": [],
   "source": [
    "real_device = provider.get_backend('ibm_brisbane')"
   ]
  },
  {
   "cell_type": "markdown",
   "metadata": {},
   "source": [
    "Nous pouvons l'utiliser pour exécuter une tâche sur l'appareil exactement de la même manière que pour l'émulateur.\n",
    "\n",
    "On peut également extraire certaines de ses propriétés."
   ]
  },
  {
   "cell_type": "code",
   "execution_count": 37,
   "metadata": {
    "tags": [
     "uses-hardware"
    ]
   },
   "outputs": [],
   "source": [
    "properties = real_device.properties()\n",
    "coupling_map = real_device.configuration().coupling_map"
   ]
  },
  {
   "cell_type": "markdown",
   "metadata": {},
   "source": [
    "À partir de là, nous pouvons construire un modèle de bruit pour imiter le bruit sur l'appareil (nous discuterons des modèles de bruit plus loin dans le manuel). "
   ]
  },
  {
   "cell_type": "code",
   "execution_count": 41,
   "metadata": {
    "tags": [
     "uses-hardware"
    ]
   },
   "outputs": [],
   "source": [
    "from qiskit_ibm_runtime.fake_provider import FakeAthens\n",
    "athens = FakeAthens()"
   ]
  },
  {
   "cell_type": "markdown",
   "metadata": {},
   "source": [
    "Et puis exécutez le travail sur l'émulateur, en reproduisant toutes ces fonctionnalités du périphérique réel. Voici un exemple avec un circuit qui devrait produire `'10'` dans le cas silencieux."
   ]
  },
  {
   "cell_type": "code",
   "execution_count": 42,
   "metadata": {
    "tags": [
     "uses-hardware"
    ]
   },
   "outputs": [
    {
     "data": {
      "text/html": [
       "<pre style=\"word-wrap: normal;white-space: pre;background: #fff0;line-height: 1.1;font-family: &quot;Courier New&quot;,Courier,monospace\">        ┌───┐                     ░ ┌─┐            \n",
       "   q_0: ┤ X ├──■────■────■────■───░─┤M├────────────\n",
       "        └───┘┌─┴─┐  │    │    │   ░ └╥┘┌─┐         \n",
       "   q_1: ─────┤ X ├──┼────┼────┼───░──╫─┤M├─────────\n",
       "             └───┘┌─┴─┐  │    │   ░  ║ └╥┘┌─┐      \n",
       "   q_2: ──────────┤ X ├──┼────┼───░──╫──╫─┤M├──────\n",
       "                  └───┘┌─┴─┐  │   ░  ║  ║ └╥┘┌─┐   \n",
       "   q_3: ───────────────┤ X ├──┼───░──╫──╫──╫─┤M├───\n",
       "                       └───┘┌─┴─┐ ░  ║  ║  ║ └╥┘┌─┐\n",
       "   q_4: ────────────────────┤ X ├─░──╫──╫──╫──╫─┤M├\n",
       "                            └───┘ ░  ║  ║  ║  ║ └╥┘\n",
       "   c: 5/═════════════════════════════╬══╬══╬══╬══╬═\n",
       "                                     ║  ║  ║  ║  ║ \n",
       "meas: 5/═════════════════════════════╩══╩══╩══╩══╩═\n",
       "                                     0  1  2  3  4 </pre>"
      ],
      "text/plain": [
       "        ┌───┐                     ░ ┌─┐            \n",
       "   q_0: ┤ X ├──■────■────■────■───░─┤M├────────────\n",
       "        └───┘┌─┴─┐  │    │    │   ░ └╥┘┌─┐         \n",
       "   q_1: ─────┤ X ├──┼────┼────┼───░──╫─┤M├─────────\n",
       "             └───┘┌─┴─┐  │    │   ░  ║ └╥┘┌─┐      \n",
       "   q_2: ──────────┤ X ├──┼────┼───░──╫──╫─┤M├──────\n",
       "                  └───┘┌─┴─┐  │   ░  ║  ║ └╥┘┌─┐   \n",
       "   q_3: ───────────────┤ X ├──┼───░──╫──╫──╫─┤M├───\n",
       "                       └───┘┌─┴─┐ ░  ║  ║  ║ └╥┘┌─┐\n",
       "   q_4: ────────────────────┤ X ├─░──╫──╫──╫──╫─┤M├\n",
       "                            └───┘ ░  ║  ║  ║  ║ └╥┘\n",
       "   c: 5/═════════════════════════════╬══╬══╬══╬══╬═\n",
       "                                     ║  ║  ║  ║  ║ \n",
       "meas: 5/═════════════════════════════╩══╩══╩══╩══╩═\n",
       "                                     0  1  2  3  4 "
      ]
     },
     "execution_count": 42,
     "metadata": {},
     "output_type": "execute_result"
    }
   ],
   "source": [
    "qc = QuantumCircuit(5,5)\n",
    "qc.x(0)\n",
    "for q in range(4):\n",
    "    qc.cx(0,q+1)\n",
    "qc.measure_all()\n",
    "qc.draw()"
   ]
  },
  {
   "cell_type": "code",
   "execution_count": 43,
   "metadata": {},
   "outputs": [
    {
     "data": {
      "image/png": "[encoded data removed]",
      "text/plain": [
       "<Figure size 271.4x271.4 with 1 Axes>"
      ]
     },
     "execution_count": 43,
     "metadata": {},
     "output_type": "execute_result"
    }
   ],
   "source": [
    "from qiskit.visualization import plot_gate_map\n",
    "plot_gate_map(athens)"
   ]
  },
  {
   "cell_type": "code",
   "execution_count": 44,
   "metadata": {},
   "outputs": [
    {
     "data": {
      "text/html": [
       "<pre style=\"word-wrap: normal;white-space: pre;background: #fff0;line-height: 1.1;font-family: &quot;Courier New&quot;,Courier,monospace\">                                                 ┌───┐           ░          ┌─┐»\n",
       "q_4 -> 0 ─────────────────────────────────────■──┤ X ├──■────────░──────────┤M├»\n",
       "                                       ┌───┐┌─┴─┐└─┬─┘┌─┴─┐┌───┐ ░          └╥┘»\n",
       "q_3 -> 1 ──────────────────────────────┤ X ├┤ X ├──■──┤ X ├┤ X ├─░───────────╫─»\n",
       "         ┌───┐                         └─┬─┘└───┘     └───┘└─┬─┘ ░ ┌─┐       ║ »\n",
       "q_0 -> 2 ┤ X ├──■───────────────────■────■───────────────────■───░─┤M├───────╫─»\n",
       "         └───┘┌─┴─┐┌───┐     ┌───┐┌─┴─┐                          ░ └╥┘   ┌─┐ ║ »\n",
       "q_1 -> 3 ─────┤ X ├┤ X ├──■──┤ X ├┤ X ├──────────────────────────░──╫────┤M├─╫─»\n",
       "              └───┘└─┬─┘┌─┴─┐└─┬─┘└───┘                          ░  ║ ┌─┐└╥┘ ║ »\n",
       "q_2 -> 4 ────────────■──┤ X ├──■─────────────────────────────────░──╫─┤M├─╫──╫─»\n",
       "                        └───┘                                    ░  ║ └╥┘ ║  ║ »\n",
       "    c: 5/═══════════════════════════════════════════════════════════╬══╬══╬══╬═»\n",
       "                                                                    ║  ║  ║  ║ »\n",
       " meas: 5/═══════════════════════════════════════════════════════════╩══╩══╩══╩═»\n",
       "                                                                    0  1  2  3 »\n",
       "«            \n",
       "«q_4 -> 0 ───\n",
       "«         ┌─┐\n",
       "«q_3 -> 1 ┤M├\n",
       "«         └╥┘\n",
       "«q_0 -> 2 ─╫─\n",
       "«          ║ \n",
       "«q_1 -> 3 ─╫─\n",
       "«          ║ \n",
       "«q_2 -> 4 ─╫─\n",
       "«          ║ \n",
       "«    c: 5/═╬═\n",
       "«          ║ \n",
       "« meas: 5/═╩═\n",
       "«          4 </pre>"
      ],
      "text/plain": [
       "                                                 ┌───┐           ░          ┌─┐»\n",
       "q_4 -> 0 ─────────────────────────────────────■──┤ X ├──■────────░──────────┤M├»\n",
       "                                       ┌───┐┌─┴─┐└─┬─┘┌─┴─┐┌───┐ ░          └╥┘»\n",
       "q_3 -> 1 ──────────────────────────────┤ X ├┤ X ├──■──┤ X ├┤ X ├─░───────────╫─»\n",
       "         ┌───┐                         └─┬─┘└───┘     └───┘└─┬─┘ ░ ┌─┐       ║ »\n",
       "q_0 -> 2 ┤ X ├──■───────────────────■────■───────────────────■───░─┤M├───────╫─»\n",
       "         └───┘┌─┴─┐┌───┐     ┌───┐┌─┴─┐                          ░ └╥┘   ┌─┐ ║ »\n",
       "q_1 -> 3 ─────┤ X ├┤ X ├──■──┤ X ├┤ X ├──────────────────────────░──╫────┤M├─╫─»\n",
       "              └───┘└─┬─┘┌─┴─┐└─┬─┘└───┘                          ░  ║ ┌─┐└╥┘ ║ »\n",
       "q_2 -> 4 ────────────■──┤ X ├──■─────────────────────────────────░──╫─┤M├─╫──╫─»\n",
       "                        └───┘                                    ░  ║ └╥┘ ║  ║ »\n",
       "    c: 5/═══════════════════════════════════════════════════════════╬══╬══╬══╬═»\n",
       "                                                                    ║  ║  ║  ║ »\n",
       " meas: 5/═══════════════════════════════════════════════════════════╩══╩══╩══╩═»\n",
       "                                                                    0  1  2  3 »\n",
       "«            \n",
       "«q_4 -> 0 ───\n",
       "«         ┌─┐\n",
       "«q_3 -> 1 ┤M├\n",
       "«         └╥┘\n",
       "«q_0 -> 2 ─╫─\n",
       "«          ║ \n",
       "«q_1 -> 3 ─╫─\n",
       "«          ║ \n",
       "«q_2 -> 4 ─╫─\n",
       "«          ║ \n",
       "«    c: 5/═╬═\n",
       "«          ║ \n",
       "« meas: 5/═╩═\n",
       "«          4 "
      ]
     },
     "execution_count": 44,
     "metadata": {},
     "output_type": "execute_result"
    }
   ],
   "source": [
    "from qiskit import transpile\n",
    "t_qc = transpile(qc, athens)\n",
    "t_qc.draw()"
   ]
  },
  {
   "cell_type": "markdown",
   "metadata": {},
   "source": [
    "Maintenant que les bases ont été couvertes, apprenons-en davantage sur ce que sont les qubits et les circuits quantiques."
   ]
  },
  {
   "cell_type": "code",
   "execution_count": 45,
   "metadata": {},
   "outputs": [
    {
     "data": {
      "image/png": "[encoded data removed]",
      "text/plain": [
       "<Figure size 700x500 with 1 Axes>"
      ]
     },
     "execution_count": 45,
     "metadata": {},
     "output_type": "execute_result"
    }
   ],
   "source": [
    "counts = athens.run(t_qc).result().get_counts()\n",
    "plot_histogram(counts)"
   ]
  },
  {
   "cell_type": "code",
   "execution_count": 56,
   "metadata": {},
   "outputs": [
    {
     "name": "stdout",
     "output_type": "stream",
     "text": [
      "qiskit 1.0.1\n"
     ]
    }
   ],
   "source": [
    "from qiskit.version import __version__, __package__\n",
    "print(\n",
    "__package__ , __version__\n",
    ")"
   ]
  }
 ],
 "metadata": {
  "kernelspec": {
   "display_name": "Python 3 (ipykernel)",
   "language": "python",
   "name": "python3"
  },
  "language_info": {
   "codemirror_mode": {
    "name": "ipython",
    "version": 3
   },
   "file_extension": ".py",
   "mimetype": "text/x-python",
   "name": "python",
   "nbconvert_exporter": "python",
   "pygments_lexer": "ipython3",
   "version": "3.11.8"
  }
 },
 "nbformat": 4,
 "nbformat_minor": 4
}
